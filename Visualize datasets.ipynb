{
 "cells": [
  {
   "cell_type": "markdown",
   "id": "558532f0-0024-45d0-bc81-1d1ee424e186",
   "metadata": {},
   "source": [
    "# Visualize datasets"
   ]
  },
  {
   "cell_type": "code",
   "execution_count": 1,
   "id": "7e8039b8-b891-4192-a902-f56a95c09b68",
   "metadata": {},
   "outputs": [],
   "source": [
    "import pandas as pd\n",
    "import matplotlib.pyplot as plt"
   ]
  },
  {
   "cell_type": "markdown",
   "id": "dc9a87dc-354a-458d-8449-16cad695ec14",
   "metadata": {},
   "source": [
    "## Keypoints"
   ]
  },
  {
   "cell_type": "code",
   "execution_count": 2,
   "id": "06045e64-806f-4d42-93cd-14e7bec7a409",
   "metadata": {},
   "outputs": [],
   "source": [
    "keypoint_dataset_path = \"model/keypoint_classifier/keypoint.csv\"\n",
    "keypoint_labels_path = \"model/keypoint_classifier/keypoint_classifier_label.csv\""
   ]
  },
  {
   "cell_type": "code",
   "execution_count": 3,
   "id": "4f26696f-7388-4c3f-8e02-ee81ee9e1716",
   "metadata": {},
   "outputs": [],
   "source": [
    "keypoint_df = pd.read_csv(keypoint_dataset_path, header=None)\n",
    "with open(keypoint_labels_path, \"r\") as labels_file:\n",
    "    labels = [label.replace(\"\\n\", \"\").replace('\"', '') for label in labels_file.readlines()]"
   ]
  },
  {
   "cell_type": "code",
   "execution_count": 4,
   "id": "d574bdb8-2b9c-4633-9994-3c15e4878a16",
   "metadata": {},
   "outputs": [
    {
     "name": "stdout",
     "output_type": "stream",
     "text": [
      "Total number of elements: 3707\n"
     ]
    },
    {
     "data": {
      "image/png": "[encoded data removed]",
      "text/plain": [
       "<Figure size 432x288 with 1 Axes>"
      ]
     },
     "metadata": {
      "needs_background": "light"
     },
     "output_type": "display_data"
    }
   ],
   "source": [
    "labels_count = {labels[label_index]: number_of_els for label_index, number_of_els in keypoint_df[0].value_counts().iteritems()}\n",
    "print(\"Total number of elements:\", len(keypoint_df))\n",
    "plt.bar(range(len(labels_count)), list(labels_count.values()), tick_label=list(labels_count.keys()))\n",
    "plt.title(\"Number of labels per each class\")\n",
    "plt.show()"
   ]
  },
  {
   "cell_type": "code",
   "execution_count": 5,
   "id": "672d2123-5bf7-477d-875a-3d07b2cfbf10",
   "metadata": {},
   "outputs": [],
   "source": [
    "point_history_dataset_path = \"model/point_history_classifier/point_history.csv\"\n",
    "point_history_labels_path = \"model/point_history_classifier/point_history_classifier_label.csv\""
   ]
  },
  {
   "cell_type": "code",
   "execution_count": 6,
   "id": "3568a7b0",
   "metadata": {
    "collapsed": false,
    "jupyter": {
     "outputs_hidden": false
    },
    "pycharm": {
     "name": "#%%\n"
    }
   },
   "outputs": [],
   "source": [
    "point_history_df = pd.read_csv(point_history_dataset_path, header=None)\n",
    "with open(point_history_labels_path, \"r\") as labels_file:\n",
    "    point_history_labels = [label.replace(\"\\n\", \"\").replace('\"', '') for label in labels_file.readlines()]"
   ]
  },
  {
   "cell_type": "code",
   "execution_count": 7,
   "id": "be5488fa",
   "metadata": {
    "collapsed": false,
    "jupyter": {
     "outputs_hidden": false
    },
    "pycharm": {
     "name": "#%%\n"
    }
   },
   "outputs": [
    {
     "name": "stdout",
     "output_type": "stream",
     "text": [
      "Total number of elements: 994\n"
     ]
    },
    {
     "data": {
      "image/png": "[encoded data removed]",
      "text/plain": [
       "<Figure size 432x288 with 1 Axes>"
      ]
     },
     "metadata": {
      "needs_background": "light"
     },
     "output_type": "display_data"
    }
   ],
   "source": [
    "labels_count = {point_history_labels[label_index]: number_of_els for label_index, number_of_els in point_history_df[0].value_counts().iteritems()}\n",
    "print(\"Total number of elements:\", len(point_history_df))\n",
    "plt.bar(range(len(labels_count)), list(labels_count.values()), tick_label=list(labels_count.keys()))\n",
    "plt.title(\"Number of labels per each class\")\n",
    "plt.show()"
   ]
  },
  {
   "cell_type": "code",
   "execution_count": null,
   "id": "9b11679a",
   "metadata": {
    "collapsed": false,
    "jupyter": {
     "outputs_hidden": false
    },
    "pycharm": {
     "name": "#%%\n"
    }
   },
   "outputs": [],
   "source": []
  }
 ],
 "metadata": {
  "kernelspec": {
   "display_name": "Python 3 (ipykernel)",
   "language": "python",
   "name": "python3"
  },
  "language_info": {
   "codemirror_mode": {
    "name": "ipython",
    "version": 3
   },
   "file_extension": ".py",
   "mimetype": "text/x-python",
   "name": "python",
   "nbconvert_exporter": "python",
   "pygments_lexer": "ipython3",
   "version": "3.9.10"
  }
 },
 "nbformat": 4,
 "nbformat_minor": 5
}
